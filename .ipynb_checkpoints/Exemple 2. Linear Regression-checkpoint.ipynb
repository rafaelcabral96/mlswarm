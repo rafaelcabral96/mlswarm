{
 "cells": [
  {
   "cell_type": "markdown",
   "metadata": {},
   "source": [
    "The goal here is to find the *W1, b1* constants from the linear model f(x) = *W1*\\*x + *b1* \n",
    "\n",
    "The training data consists of 500 points sampled from: f(x) = 2\\*x + 1 + random_normal\\*0.1\n",
    "\n",
    "For that it is necessary to:\n",
    "1. nn = neuralnet(...) - define neural network architecture and create neural network\n",
    "2. nn = init_cloud(N) - Initialize cloud with N particles\n",
    "3. nn.train(...) - Define the training data, algorithm parameters and start the algorithm"
   ]
  },
  {
   "cell_type": "code",
   "execution_count": 1,
   "metadata": {},
   "outputs": [],
   "source": [
    "from mlswarm import neuralnet \n",
    "from sklearn.model_selection import train_test_split\n",
    "import numpy as np\n",
    "\n",
    "#DATASET-------------------------------\n",
    "N_points = 500\n",
    "X = np.linspace(0, 2, N_points)\n",
    "Y = 2 * X + 1 + np.random.randn(*X.shape) * 0.1  \n",
    "X.resize((N_points,1))\n",
    "Y.resize((N_points,1))\n",
    "X_train, X_test, Y_train, Y_test = train_test_split(X, Y, test_size=0.2, random_state=42)"
   ]
  },
  {
   "cell_type": "code",
   "execution_count": 2,
   "metadata": {},
   "outputs": [
    {
     "name": "stdout",
     "output_type": "stream",
     "text": [
      "\n",
      "Training started...\n",
      "Maximum amount of epochs reached\n",
      "\n",
      "Cost function value at cloud mean: 0.010136799343328545\n",
      "Best cost was: 0.01003841150683175\n",
      "Cost function value (derivative) evaluated 1000 (0) times\n",
      "\n",
      "The clock time (CPU time) for train_nn was 0.10041 (0.12500) seconds\n"
     ]
    }
   ],
   "source": [
    "nn_architecture = [\n",
    "    {\"input_dim\": 1, \"output_dim\": 1, \"activation\": \"linear\"}\n",
    "]\n",
    "\n",
    "#CREATE NEURAL NETWORK\n",
    "nn = neuralnet(nn_architecture)\n",
    "\n",
    "#INITIALIZE CLOUD WITH 5 PARTICLES ACCORDING TO XAVIER INITIALIZATION\n",
    "nn.init_cloud(N = 5)\n",
    "\n",
    "#TRAINING\n",
    "nn.train(X_train, Y_train, {'max_epochs': 200,\n",
    "                            'learning_rate': 0.1,\n",
    "                            'kernel_a': 0.01,\n",
    "                            'alpha_rate':1,\n",
    "                            'alpha_init':0})"
   ]
  },
  {
   "cell_type": "code",
   "execution_count": 3,
   "metadata": {},
   "outputs": [
    {
     "name": "stdout",
     "output_type": "stream",
     "text": [
      "Test set accuracy using neuralnet 0: 0.01165\n",
      "Test set accuracy using best neuralnet: 0.01166\n"
     ]
    },
    {
     "data": {
      "image/png": "[encoded data removed]",
      "text/plain": [
       "<Figure size 432x288 with 1 Axes>"
      ]
     },
     "metadata": {
      "needs_background": "light"
     },
     "output_type": "display_data"
    }
   ],
   "source": [
    "#ACCURACY ON TEST SET USING PARTICLE 0 WEIGHTS\n",
    "nn.prediction_accuracy_particle(X_test, Y_test, acc_type = 'rmse', particle = 0)\n",
    "\n",
    "#ACCURACY ON TEST SET USING CLOUD MEAN WEIGHTS\n",
    "nn.prediction_accuracy_best_particle(X_test, Y_test, acc_type = 'rmse')\n",
    "\n",
    "#PLOT COST HISTORY\n",
    "nn.plot_cost_history()"
   ]
  }
 ],
 "metadata": {
  "kernelspec": {
   "display_name": "Python 3",
   "language": "python",
   "name": "python3"
  },
  "language_info": {
   "codemirror_mode": {
    "name": "ipython",
    "version": 3
   },
   "file_extension": ".py",
   "mimetype": "text/x-python",
   "name": "python",
   "nbconvert_exporter": "python",
   "pygments_lexer": "ipython3",
   "version": "3.7.1"
  }
 },
 "nbformat": 4,
 "nbformat_minor": 2
}
